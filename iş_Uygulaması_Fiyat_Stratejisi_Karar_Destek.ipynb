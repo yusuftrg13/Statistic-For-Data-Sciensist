{
  "nbformat": 4,
  "nbformat_minor": 0,
  "metadata": {
    "colab": {
      "provenance": []
    },
    "kernelspec": {
      "name": "python3",
      "display_name": "Python 3"
    },
    "language_info": {
      "name": "python"
    }
  },
  "cells": [
    {
      "cell_type": "markdown",
      "source": [
        "Güven Aralığı\n"
      ],
      "metadata": {
        "id": "uOFPKexmYrXg"
      }
    },
    {
      "cell_type": "markdown",
      "source": [
        "Problem:CEO fiyat belirleme konusunda bilimsel bi dayanak ve esneklik istiyor:\n",
        "Detaylar:\n",
        "-Satıcı,alıcı ve bir ürün var\n",
        "-Alıcılara ürüne ne kadar ücret öderdiniz diye soruluyor\n",
        "-Optimum fiyat bilimsel ve esnek bulunmak isteniyor"
      ],
      "metadata": {
        "id": "Zfn4SfC5Y-_A"
      }
    },
    {
      "cell_type": "code",
      "source": [
        "#İŞ UYGULAMASI:FİYAT STRATEJİSİ KARAR DESTEK"
      ],
      "metadata": {
        "id": "X7k7FQM6ZXI3"
      },
      "execution_count": null,
      "outputs": []
    },
    {
      "cell_type": "code",
      "source": [
        "import numpy as np\n",
        "fiyatlar=np.random.randint(10,110,1000)"
      ],
      "metadata": {
        "id": "CaHIOcOXaLo8"
      },
      "execution_count": 2,
      "outputs": []
    },
    {
      "cell_type": "code",
      "source": [
        "#Fiyat istatistik kümesinin ortalamasını alalım\n",
        "fiyatlar.mean()"
      ],
      "metadata": {
        "colab": {
          "base_uri": "https://localhost:8080/"
        },
        "id": "xh_uPFFyaVzt",
        "outputId": "029d3443-4b33-46c1-b501-be7f987cc9fb"
      },
      "execution_count": 3,
      "outputs": [
        {
          "output_type": "execute_result",
          "data": {
            "text/plain": [
              "60.877"
            ]
          },
          "metadata": {},
          "execution_count": 3
        }
      ]
    },
    {
      "cell_type": "code",
      "source": [
        "import statsmodels.stats.api as sms"
      ],
      "metadata": {
        "id": "-ccIK6cIafW7"
      },
      "execution_count": 4,
      "outputs": []
    },
    {
      "cell_type": "code",
      "source": [
        "sms.DescrStatsW(fiyatlar).tconfint_mean()"
      ],
      "metadata": {
        "colab": {
          "base_uri": "https://localhost:8080/"
        },
        "id": "-8IeM8-KaqUk",
        "outputId": "9998040f-d74f-4aee-f740-d4bd52dd1671"
      },
      "execution_count": 5,
      "outputs": [
        {
          "output_type": "execute_result",
          "data": {
            "text/plain": [
              "(59.08773489039325, 62.666265109606755)"
            ]
          },
          "metadata": {},
          "execution_count": 5
        }
      ]
    },
    {
      "cell_type": "code",
      "source": [],
      "metadata": {
        "id": "3240AYymawKe"
      },
      "execution_count": null,
      "outputs": []
    }
  ]
}